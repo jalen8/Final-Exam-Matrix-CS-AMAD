{
  "nbformat": 4,
  "nbformat_minor": 0,
  "metadata": {
    "colab": {
      "provenance": []
    },
    "kernelspec": {
      "name": "python3",
      "display_name": "Python 3"
    },
    "language_info": {
      "name": "python"
    }
  },
  "cells": [
    {
      "cell_type": "markdown",
      "source": [
        "# **AMAD, FRANCIS JALEN BSCS 3**"
      ],
      "metadata": {
        "id": "k2vpnwyQhSoc"
      }
    },
    {
      "cell_type": "markdown",
      "source": [
        "Final Exam Matrix CS"
      ],
      "metadata": {
        "id": "WUTdaomfhaHd"
      }
    },
    {
      "cell_type": "code",
      "source": [
        "import numpy as np\n",
        "import matplotlib.pyplot as plt"
      ],
      "metadata": {
        "id": "Ft8jSL_tfkln"
      },
      "execution_count": null,
      "outputs": []
    },
    {
      "cell_type": "markdown",
      "source": [
        "# **# Step 1: Generate a 3x4 random matrix**"
      ],
      "metadata": {
        "id": "E3mDu-iRfiNm"
      }
    },
    {
      "cell_type": "code",
      "source": [
        "np.random.seed(42)  # for reproducibility\n",
        "matrix_3x4 = np.random.randint(1, 11, size=(3, 4))  # Range 1-10 for easier manual calculations\n",
        "A = matrix_3x4[:, :3]  # Coefficient matrix (first 3 columns)\n",
        "b = matrix_3x4[:, 3]  # Right-hand side vector (last column)\n",
        "\n",
        "print(\"Generated 3x4 Matrix:\")\n",
        "print(matrix_3x4)\n",
        "print(\"\\nCoefficient Matrix (A):\")\n",
        "print(A)\n",
        "print(\"\\nRight-hand Side Vector (b):\")\n",
        "print(b)"
      ],
      "metadata": {
        "colab": {
          "base_uri": "https://localhost:8080/"
        },
        "id": "cVwzVWlTfsju",
        "outputId": "7aab56d1-5281-4990-d086-c841d786953f"
      },
      "execution_count": null,
      "outputs": [
        {
          "output_type": "stream",
          "name": "stdout",
          "text": [
            "Generated 3x4 Matrix:\n",
            "[[ 7  4  8  5]\n",
            " [ 7 10  3  7]\n",
            " [ 8  5  4  8]]\n",
            "\n",
            "Coefficient Matrix (A):\n",
            "[[ 7  4  8]\n",
            " [ 7 10  3]\n",
            " [ 8  5  4]]\n",
            "\n",
            "Right-hand Side Vector (b):\n",
            "[5 7 8]\n"
          ]
        }
      ]
    },
    {
      "cell_type": "markdown",
      "source": [
        "## **Step 2: Solve using Matrix Inverse Method**"
      ],
      "metadata": {
        "id": "0YyyfLf3fg_9"
      }
    },
    {
      "cell_type": "code",
      "source": [
        "try:\n",
        "    A_inv = np.linalg.inv(A)  # Compute A^-1\n",
        "    x_inverse = np.dot(A_inv, b)  # x = A^-1 * b\n",
        "    print(\"\\nSolution using Matrix Inverse Method:\")\n",
        "    print(x_inverse)\n",
        "except np.linalg.LinAlgError:\n",
        "    print(\"\\nMatrix A is singular and cannot be inverted.\")"
      ],
      "metadata": {
        "colab": {
          "base_uri": "https://localhost:8080/"
        },
        "id": "MKGG_oaxf5bI",
        "outputId": "f1c756b6-d95e-4dea-94fb-8b81c7448f8d"
      },
      "execution_count": null,
      "outputs": [
        {
          "output_type": "stream",
          "name": "stdout",
          "text": [
            "\n",
            "Solution using Matrix Inverse Method:\n",
            "[ 1.24875622 -0.039801   -0.44776119]\n"
          ]
        }
      ]
    },
    {
      "cell_type": "markdown",
      "source": [
        "## **Step 3: Solve using Gaussian Elimination**"
      ],
      "metadata": {
        "id": "GWMawD7jfeSM"
      }
    },
    {
      "cell_type": "code",
      "source": [
        "x_gaussian = np.linalg.solve(A, b)  # Direct Gaussian elimination\n",
        "print(\"\\nSolution using Gaussian Elimination (NumPy):\")\n",
        "print(x_gaussian)"
      ],
      "metadata": {
        "colab": {
          "base_uri": "https://localhost:8080/"
        },
        "id": "MaXYs_Uhf-Kh",
        "outputId": "1048edd5-b14d-4a0c-bdc1-84d7a96fcadf"
      },
      "execution_count": null,
      "outputs": [
        {
          "output_type": "stream",
          "name": "stdout",
          "text": [
            "\n",
            "Solution using Gaussian Elimination (NumPy):\n",
            "[ 1.24875622 -0.039801   -0.44776119]\n"
          ]
        }
      ]
    },
    {
      "cell_type": "markdown",
      "source": [
        "## **Step 4: Verify the solution**"
      ],
      "metadata": {
        "id": "GZPDbVXufeUF"
      }
    },
    {
      "cell_type": "code",
      "source": [
        "b_check = np.dot(A, x_gaussian)  # Recompute b using A and the computed x\n",
        "print(\"\\nVerification (Ax = b):\")\n",
        "print(b_check)\n",
        "print(\"\\nOriginal b:\")\n",
        "print(b)\n",
        "print(\"\\nAre the results equal?\", np.allclose(b_check, b))"
      ],
      "metadata": {
        "colab": {
          "base_uri": "https://localhost:8080/"
        },
        "id": "gVn2njdcgDs7",
        "outputId": "df13449f-f374-4fb9-a20b-aef3c34adb9a"
      },
      "execution_count": null,
      "outputs": [
        {
          "output_type": "stream",
          "name": "stdout",
          "text": [
            "\n",
            "Verification (Ax = b):\n",
            "[5. 7. 8.]\n",
            "\n",
            "Original b:\n",
            "[5 7 8]\n",
            "\n",
            "Are the results equal? True\n"
          ]
        }
      ]
    },
    {
      "cell_type": "code",
      "source": [
        "import numpy as np\n",
        "\n",
        "A = np.array([[7, 8, 7],\n",
        "              [5, 6, 3],\n",
        "              [9, 3, 6]])\n",
        "\n",
        "b = np.array([10, 7, 5])\n",
        "\n",
        "x = np.array([-3.4198, 4.1146, 0.2314])\n",
        "\n",
        "print(\"Verification (Ax = b):\")\n",
        "print(np.dot(A, x))\n",
        "print(\"\\nOriginal b:\")\n",
        "print(b)\n",
        "print(\"\\nAre the results equal?\", np.allclose(np.dot(A, x), b))"
      ],
      "metadata": {
        "colab": {
          "base_uri": "https://localhost:8080/"
        },
        "id": "YxagHYLCgqVH",
        "outputId": "9997b8c9-0b68-4c4c-bd52-772da9cfc759"
      },
      "execution_count": null,
      "outputs": [
        {
          "output_type": "stream",
          "name": "stdout",
          "text": [
            "Verification (Ax = b):\n",
            "[ 10.598    8.2828 -17.046 ]\n",
            "\n",
            "Original b:\n",
            "[10  7  5]\n",
            "\n",
            "Are the results equal? False\n"
          ]
        }
      ]
    },
    {
      "cell_type": "markdown",
      "source": [
        "# **# Step 5: Visualize the results**"
      ],
      "metadata": {
        "id": "vXrCM9i-feWI"
      }
    },
    {
      "cell_type": "code",
      "source": [
        "fig, (ax1, ax2) = plt.subplots(1, 2, figsize=(12, 5))\n",
        "\n",
        "ax1.imshow(A, cmap='viridis')\n",
        "ax1.set_title('Coefficient Matrix A')\n",
        "for i in range(3):\n",
        "    for j in range(3):\n",
        "        ax1.text(j, i, A[i, j], ha='center', va='center', color='w')\n",
        "\n",
        "ax2.bar(range(3), x_gaussian)\n",
        "ax2.set_title('Solution Vector x')\n",
        "ax2.set_xlabel('Variable')\n",
        "ax2.set_ylabel('Value')\n",
        "for i, v in enumerate(x_gaussian):\n",
        "    ax2.text(i, v, f'{v:.2f}', ha='center', va='bottom')\n",
        "\n",
        "plt.tight_layout()\n",
        "plt.show()"
      ],
      "metadata": {
        "colab": {
          "base_uri": "https://localhost:8080/",
          "height": 507
        },
        "id": "BCRylZdNgIvX",
        "outputId": "e7567d83-6500-4619-a079-355065f2c588"
      },
      "execution_count": null,
      "outputs": [
        {
          "output_type": "display_data",
          "data": {
            "text/plain": [
              "<Figure size 1200x500 with 2 Axes>"
            ],
            "image/png": "[encoded data removed]"
          },
          "metadata": {}
        }
      ]
    }
  ]
}